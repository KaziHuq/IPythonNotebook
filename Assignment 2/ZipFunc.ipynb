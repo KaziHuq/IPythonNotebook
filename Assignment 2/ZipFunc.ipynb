{
 "cells": [
  {
   "cell_type": "code",
   "execution_count": 10,
   "id": "839d86ee-9fd5-4efd-b40c-001e465aa661",
   "metadata": {},
   "outputs": [
    {
     "name": "stdout",
     "output_type": "stream",
     "text": [
      "[(11, 'ab', 'xy'), (21, 'bc', 'yz'), (31, 'ca', 'za')]\n"
     ]
    }
   ],
   "source": [
    "# iterable 1 \n",
    "list1 = [11, 21, 31]\n",
    "\n",
    "# iterable 2 \n",
    "list2 = ['ab', 'bc', 'ca']\n",
    "\n",
    "# iterable 3 \n",
    "list3 = ['xy', 'yz', 'za']\n",
    "\n",
    "# zipping the three iterables with zip() function \n",
    "zipped = zip(list1, list2, list3)\n",
    "\n",
    "# The list() function is creating a list of zip which is ordered \n",
    "result = list(zipped)\n",
    "\n",
    "# printing the output\n",
    "print(result)\n"
   ]
  },
  {
   "cell_type": "code",
   "execution_count": null,
   "id": "c4659d8b-a1fd-488d-b1a3-d0f1c58be687",
   "metadata": {},
   "outputs": [],
   "source": []
  }
 ],
 "metadata": {
  "kernelspec": {
   "display_name": "Python 3 (ipykernel)",
   "language": "python",
   "name": "python3"
  },
  "language_info": {
   "codemirror_mode": {
    "name": "ipython",
    "version": 3
   },
   "file_extension": ".py",
   "mimetype": "text/x-python",
   "name": "python",
   "nbconvert_exporter": "python",
   "pygments_lexer": "ipython3",
   "version": "3.11.5"
  }
 },
 "nbformat": 4,
 "nbformat_minor": 5
}
