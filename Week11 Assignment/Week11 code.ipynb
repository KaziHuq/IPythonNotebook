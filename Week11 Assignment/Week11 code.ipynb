{
 "cells": [
  {
   "cell_type": "code",
   "execution_count": 1,
   "id": "7501d059-780e-4ee5-a3cf-d3377aec77ba",
   "metadata": {},
   "outputs": [],
   "source": [
    "#importing functions\n",
    "\n",
    "import numpy as np\n",
    "import pandas as pd\n",
    "import requests\n",
    "import json as json\n",
    "\n",
    "#setting up display options\n",
    "pd.set_option('display.notebook_repr_html',True)\n",
    "pd.set_option('display.max_rows',None)\n",
    "pd.set_option('display.max_columns',None)"
   ]
  },
  {
   "cell_type": "code",
   "execution_count": 2,
   "id": "ab87fa8d-b1f3-4ac9-8282-afc702627588",
   "metadata": {},
   "outputs": [],
   "source": [
    "def simpleSearch(strQuery, strStartDate, strEndDate):\n",
    "    \n",
    "    #setting the URL for the API\n",
    "    strURL = 'https://api.nytimes.com/svc/search/v2/articlesearch.json'\n",
    "    \n",
    "    #creating a dictionary with supplied parameters\n",
    "    dictParams = {'api-key': \"Be3RKQ6rJKWTADKRGoNovnN6AM6O8igN\",\n",
    "                 'q': strQuery,\n",
    "                 'start_date': strStartDate,\n",
    "                 'end_date': strEndDate,\n",
    "                 'page': 1}\n",
    "    \n",
    "    #returning the jsons request\n",
    "    return(requests.get(strURL, params = dictParams)) "
   ]
  },
  {
   "cell_type": "code",
   "execution_count": 3,
   "id": "a124011e-51d8-4b63-add5-038032e1aa75",
   "metadata": {},
   "outputs": [],
   "source": [
    "#sending request to ny times\n",
    "nytResponse = simpleSearch(\"Hello\", 20200101, 20210101)\n",
    "\n",
    "#converting to the python dictionary\n",
    "jsonresults = nytResponse.json()['response']['docs']"
   ]
  },
  {
   "cell_type": "code",
   "execution_count": 4,
   "id": "d2c0e6b6-5e42-4392-8aaa-6e485f3760a8",
   "metadata": {},
   "outputs": [
    {
     "ename": "AttributeError",
     "evalue": "module 'pandas.io.json' has no attribute 'json_normalize'",
     "output_type": "error",
     "traceback": [
      "\u001b[1;31m---------------------------------------------------------------------------\u001b[0m",
      "\u001b[1;31mAttributeError\u001b[0m                            Traceback (most recent call last)",
      "Cell \u001b[1;32mIn[4], line 2\u001b[0m\n\u001b[0;32m      1\u001b[0m \u001b[38;5;66;03m#using the normalize function to cleanup the data\u001b[39;00m\n\u001b[1;32m----> 2\u001b[0m dfNYT_Results \u001b[38;5;241m=\u001b[39m \u001b[43mpd\u001b[49m\u001b[38;5;241;43m.\u001b[39;49m\u001b[43mio\u001b[49m\u001b[38;5;241;43m.\u001b[39;49m\u001b[43mjson\u001b[49m\u001b[38;5;241;43m.\u001b[39;49m\u001b[43mjson_normalize\u001b[49m(jsonresults)\n",
      "\u001b[1;31mAttributeError\u001b[0m: module 'pandas.io.json' has no attribute 'json_normalize'"
     ]
    }
   ],
   "source": [
    "#using the normalize function to cleanup the data\n",
    "dfNYT_Results = pd.io.json.json_normalize(jsonresults)"
   ]
  },
  {
   "cell_type": "code",
   "execution_count": 5,
   "id": "d54ba3c5-08cd-4e77-bc7a-33ec473af0f8",
   "metadata": {},
   "outputs": [
    {
     "ename": "NameError",
     "evalue": "name 'dfNYT_Results' is not defined",
     "output_type": "error",
     "traceback": [
      "\u001b[1;31m---------------------------------------------------------------------------\u001b[0m",
      "\u001b[1;31mNameError\u001b[0m                                 Traceback (most recent call last)",
      "Cell \u001b[1;32mIn[5], line 2\u001b[0m\n\u001b[0;32m      1\u001b[0m \u001b[38;5;66;03m#display the contents\u001b[39;00m\n\u001b[1;32m----> 2\u001b[0m \u001b[43mdfNYT_Results\u001b[49m\n",
      "\u001b[1;31mNameError\u001b[0m: name 'dfNYT_Results' is not defined"
     ]
    }
   ],
   "source": [
    "#display the contents\n",
    "dfNYT_Results"
   ]
  },
  {
   "cell_type": "code",
   "execution_count": null,
   "id": "c479714c-7124-42ce-89da-7443929aca75",
   "metadata": {},
   "outputs": [],
   "source": []
  },
  {
   "cell_type": "code",
   "execution_count": null,
   "id": "0aaf6fb9-f944-4a1b-b431-6e027f8eeed1",
   "metadata": {},
   "outputs": [],
   "source": []
  }
 ],
 "metadata": {
  "kernelspec": {
   "display_name": "Python 3 (ipykernel)",
   "language": "python",
   "name": "python3"
  },
  "language_info": {
   "codemirror_mode": {
    "name": "ipython",
    "version": 3
   },
   "file_extension": ".py",
   "mimetype": "text/x-python",
   "name": "python",
   "nbconvert_exporter": "python",
   "pygments_lexer": "ipython3",
   "version": "3.11.5"
  }
 },
 "nbformat": 4,
 "nbformat_minor": 5
}
