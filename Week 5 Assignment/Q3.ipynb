{
 "cells": [
  {
   "cell_type": "code",
   "execution_count": 1,
   "id": "a9c27bb4-7283-450b-9773-9304794742e2",
   "metadata": {},
   "outputs": [
    {
     "name": "stdout",
     "output_type": "stream",
     "text": [
      "Highest Wind Speed =  40.2773\n"
     ]
    }
   ],
   "source": [
    "#Q-3-Windest airport in New York on Feb 13th, 2013\n",
    "\n",
    "import pandas as pd\n",
    "\n",
    "d = pd.read_csv('weather.csv')\n",
    "\n",
    "wind = d['wind_speed'].max() \n",
    "\n",
    "print(\"Highest Wind Speed = \",wind)"
   ]
  },
  {
   "cell_type": "code",
   "execution_count": null,
   "id": "f37474ba-0e7f-4505-822e-88a3bcce0adf",
   "metadata": {},
   "outputs": [],
   "source": [
    "#EWR had highest win speed on Feb 13th, 2013 "
   ]
  }
 ],
 "metadata": {
  "kernelspec": {
   "display_name": "Python 3 (ipykernel)",
   "language": "python",
   "name": "python3"
  },
  "language_info": {
   "codemirror_mode": {
    "name": "ipython",
    "version": 3
   },
   "file_extension": ".py",
   "mimetype": "text/x-python",
   "name": "python",
   "nbconvert_exporter": "python",
   "pygments_lexer": "ipython3",
   "version": "3.11.5"
  }
 },
 "nbformat": 4,
 "nbformat_minor": 5
}
