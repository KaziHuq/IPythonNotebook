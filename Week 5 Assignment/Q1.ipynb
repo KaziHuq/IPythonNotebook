{
 "cells": [
  {
   "cell_type": "code",
   "execution_count": 3,
   "id": "bda1a9c1-ad71-4e23-8aff-8e761d30a31d",
   "metadata": {},
   "outputs": [
    {
     "name": "stdout",
     "output_type": "stream",
     "text": [
      "Northernmost airport latitude =  72.270833\n"
     ]
    }
   ],
   "source": [
    "#Q-1-code to get the highest latitude which indicate the northernmost airport \n",
    "import pandas as pd\n",
    "\n",
    "d = pd.read_csv('airports.csv')\n",
    "\n",
    "northernmost = d['lat'].max()\n",
    "\n",
    "\n",
    "print(\"Northernmost airport latitude = \",northernmost)"
   ]
  },
  {
   "cell_type": "code",
   "execution_count": null,
   "id": "93534e65-c6f2-46ad-b27b-374e6edd3a22",
   "metadata": {},
   "outputs": [],
   "source": [
    "#Dillant Hopkins Airport is the nothernmost as it's latitude is 72.27."
   ]
  }
 ],
 "metadata": {
  "kernelspec": {
   "display_name": "Python 3 (ipykernel)",
   "language": "python",
   "name": "python3"
  },
  "language_info": {
   "codemirror_mode": {
    "name": "ipython",
    "version": 3
   },
   "file_extension": ".py",
   "mimetype": "text/x-python",
   "name": "python",
   "nbconvert_exporter": "python",
   "pygments_lexer": "ipython3",
   "version": "3.11.5"
  }
 },
 "nbformat": 4,
 "nbformat_minor": 5
}
