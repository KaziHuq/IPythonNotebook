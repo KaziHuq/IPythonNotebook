{
 "cells": [
  {
   "cell_type": "code",
   "execution_count": 1,
   "id": "0684909e-5b0f-4cd9-ac80-0ab54876221e",
   "metadata": {},
   "outputs": [
    {
     "name": "stdout",
     "output_type": "stream",
     "text": [
      "Easternmost airport latitude =  19.721375\n"
     ]
    }
   ],
   "source": [
    "#Q-2-code to get the lowest latitude which indicate the eastermost \n",
    "\n",
    "\n",
    "import pandas as pd\n",
    "\n",
    "data = pd.read_csv('airports.csv')\n",
    "\n",
    "easternmost = data['lat'].min()\n",
    "\n",
    "\n",
    "print(\"Easternmost airport latitude = \",easternmost)"
   ]
  },
  {
   "cell_type": "code",
   "execution_count": null,
   "id": "fb00d54c-f649-4780-b8e1-bf16e2eb743f",
   "metadata": {},
   "outputs": [],
   "source": [
    "#Hilo Intl Airport is the easternmost airport as it's latitude is 19.72"
   ]
  }
 ],
 "metadata": {
  "kernelspec": {
   "display_name": "Python 3 (ipykernel)",
   "language": "python",
   "name": "python3"
  },
  "language_info": {
   "codemirror_mode": {
    "name": "ipython",
    "version": 3
   },
   "file_extension": ".py",
   "mimetype": "text/x-python",
   "name": "python",
   "nbconvert_exporter": "python",
   "pygments_lexer": "ipython3",
   "version": "3.11.5"
  }
 },
 "nbformat": 4,
 "nbformat_minor": 5
}
