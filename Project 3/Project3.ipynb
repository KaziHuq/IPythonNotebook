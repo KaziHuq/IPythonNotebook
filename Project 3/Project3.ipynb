{
 "cells": [
  {
   "cell_type": "code",
   "execution_count": 1,
   "id": "198319ec-7669-4064-aa15-f88cccf676ec",
   "metadata": {},
   "outputs": [
    {
     "ename": "SyntaxError",
     "evalue": "invalid syntax (3146805742.py, line 1)",
     "output_type": "error",
     "traceback": [
      "\u001b[1;36m  Cell \u001b[1;32mIn[1], line 1\u001b[1;36m\u001b[0m\n\u001b[1;33m    mport mysql.connect as sql\u001b[0m\n\u001b[1;37m          ^\u001b[0m\n\u001b[1;31mSyntaxError\u001b[0m\u001b[1;31m:\u001b[0m invalid syntax\n"
     ]
    }
   ],
   "source": [
    "mport mysql.connect as sql \n",
    "import pandas as pd\n",
    "\n",
    "sql_connect = sql.connect(host='localhost', database='chinook',user='root',password='2582')\n",
    "sql_query = (\"SELECT \\\n",
    "                customer.LastName AS 'First_Name', \\\n",
    "                customer.FirstName AS 'Last_Name', \\\n",
    "                track.Name AS 'Song_Name', \\\n",
    "                album.Title AS 'Album_Name' \\\n",
    "                FROM customer \\\n",
    "                JOIN invoice \\\n",
    "                    ON customer.CustomerId = invoice.CustomerId \\\n",
    "                JOIN invoiceline \\\n",
    "                    ON invoice.InvoiceId = invoiceline.InvoiceId \\\n",
    "                JOIN track \\\n",
    "                    ON invoiceline.TrackId = track.TrackId \\\n",
    "                JOIN Album \\\n",
    "                    ON track.AlbumId = Album.AlbumId \\\n",
    "                ORDER BY customer.LastName, album.Title ASC, track.name ASC\")\n",
    "\n",
    "\n",
    "songs = pd.read_sql(sql_query, sql_connect)\n",
    "\n",
    "songs"
   ]
  },
  {
   "cell_type": "code",
   "execution_count": null,
   "id": "e220b205-2cdb-42a8-879d-8549a88db1e6",
   "metadata": {},
   "outputs": [],
   "source": []
  }
 ],
 "metadata": {
  "kernelspec": {
   "display_name": "Python 3 (ipykernel)",
   "language": "python",
   "name": "python3"
  },
  "language_info": {
   "codemirror_mode": {
    "name": "ipython",
    "version": 3
   },
   "file_extension": ".py",
   "mimetype": "text/x-python",
   "name": "python",
   "nbconvert_exporter": "python",
   "pygments_lexer": "ipython3",
   "version": "3.11.5"
  }
 },
 "nbformat": 4,
 "nbformat_minor": 5
}
