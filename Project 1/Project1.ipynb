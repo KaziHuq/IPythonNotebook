{
 "cells": [
  {
   "cell_type": "code",
   "execution_count": 5,
   "id": "1d7b0a89-788b-4d75-8aea-f7020dc4babf",
   "metadata": {},
   "outputs": [],
   "source": [
    "import pandas as pd\n",
    "df = pd.read_csv('air_info.csv')"
   ]
  },
  {
   "cell_type": "code",
   "execution_count": 6,
   "id": "4d7b3c8b-aec7-44b0-b03b-d453ebb4d904",
   "metadata": {},
   "outputs": [
    {
     "data": {
      "text/html": [
       "<div>\n",
       "<style scoped>\n",
       "    .dataframe tbody tr th:only-of-type {\n",
       "        vertical-align: middle;\n",
       "    }\n",
       "\n",
       "    .dataframe tbody tr th {\n",
       "        vertical-align: top;\n",
       "    }\n",
       "\n",
       "    .dataframe thead th {\n",
       "        text-align: right;\n",
       "    }\n",
       "</style>\n",
       "<table border=\"1\" class=\"dataframe\">\n",
       "  <thead>\n",
       "    <tr style=\"text-align: right;\">\n",
       "      <th></th>\n",
       "      <th>Airlines</th>\n",
       "      <th>arr_time</th>\n",
       "      <th>arr_delay</th>\n",
       "      <th>dest</th>\n",
       "    </tr>\n",
       "  </thead>\n",
       "  <tbody>\n",
       "    <tr>\n",
       "      <th>0</th>\n",
       "      <td>NaN</td>\n",
       "      <td>NaN</td>\n",
       "      <td>NaN</td>\n",
       "      <td>NaN</td>\n",
       "    </tr>\n",
       "    <tr>\n",
       "      <th>1</th>\n",
       "      <td>Alaska</td>\n",
       "      <td>497.0</td>\n",
       "      <td>62.0</td>\n",
       "      <td>Los Angeles</td>\n",
       "    </tr>\n",
       "    <tr>\n",
       "      <th>2</th>\n",
       "      <td>Alaska</td>\n",
       "      <td>221.0</td>\n",
       "      <td>12.0</td>\n",
       "      <td>Phoenix</td>\n",
       "    </tr>\n",
       "    <tr>\n",
       "      <th>3</th>\n",
       "      <td>Alaska</td>\n",
       "      <td>212.0</td>\n",
       "      <td>20.0</td>\n",
       "      <td>San Diego</td>\n",
       "    </tr>\n",
       "    <tr>\n",
       "      <th>4</th>\n",
       "      <td>Alaska</td>\n",
       "      <td>503.0</td>\n",
       "      <td>102.0</td>\n",
       "      <td>San Francisco</td>\n",
       "    </tr>\n",
       "    <tr>\n",
       "      <th>5</th>\n",
       "      <td>Alaska</td>\n",
       "      <td>1841.0</td>\n",
       "      <td>305.0</td>\n",
       "      <td>Seattle</td>\n",
       "    </tr>\n",
       "    <tr>\n",
       "      <th>6</th>\n",
       "      <td>Alaska</td>\n",
       "      <td>694.0</td>\n",
       "      <td>117.0</td>\n",
       "      <td>Los Angeles</td>\n",
       "    </tr>\n",
       "    <tr>\n",
       "      <th>7</th>\n",
       "      <td>AM West</td>\n",
       "      <td>4840.0</td>\n",
       "      <td>415.0</td>\n",
       "      <td>Phoenix</td>\n",
       "    </tr>\n",
       "    <tr>\n",
       "      <th>8</th>\n",
       "      <td>AM West</td>\n",
       "      <td>383.0</td>\n",
       "      <td>65.0</td>\n",
       "      <td>San Diego</td>\n",
       "    </tr>\n",
       "    <tr>\n",
       "      <th>9</th>\n",
       "      <td>AM West</td>\n",
       "      <td>320.0</td>\n",
       "      <td>129.0</td>\n",
       "      <td>San Francisco</td>\n",
       "    </tr>\n",
       "    <tr>\n",
       "      <th>10</th>\n",
       "      <td>AM West</td>\n",
       "      <td>201.0</td>\n",
       "      <td>61.0</td>\n",
       "      <td>Seattle</td>\n",
       "    </tr>\n",
       "  </tbody>\n",
       "</table>\n",
       "</div>"
      ],
      "text/plain": [
       "   Airlines  arr_time  arr_delay           dest\n",
       "0       NaN       NaN        NaN            NaN\n",
       "1    Alaska     497.0       62.0    Los Angeles\n",
       "2    Alaska     221.0       12.0        Phoenix\n",
       "3    Alaska     212.0       20.0      San Diego\n",
       "4    Alaska     503.0      102.0  San Francisco\n",
       "5    Alaska    1841.0      305.0        Seattle\n",
       "6    Alaska     694.0      117.0    Los Angeles\n",
       "7   AM West    4840.0      415.0        Phoenix\n",
       "8   AM West     383.0       65.0      San Diego\n",
       "9   AM West     320.0      129.0  San Francisco\n",
       "10  AM West     201.0       61.0        Seattle"
      ]
     },
     "execution_count": 6,
     "metadata": {},
     "output_type": "execute_result"
    }
   ],
   "source": [
    "df"
   ]
  },
  {
   "cell_type": "code",
   "execution_count": 8,
   "id": "89db41d9-8e7c-4a68-921f-720a7f91be6d",
   "metadata": {},
   "outputs": [
    {
     "name": "stdout",
     "output_type": "stream",
     "text": [
      "0          NaN\n",
      "1    11.091234\n",
      "2     5.150215\n",
      "3     8.620690\n",
      "4    16.859504\n",
      "dtype: float64\n"
     ]
    }
   ],
   "source": [
    "#calculating the percentage of Alaska filght delay\n",
    "AlaskaFlights = df['arr_delay'].head() + df['arr_time'].head()\n",
    "AlaskaPercentDelay = (df['arr_delay'].head() / AlaskaFlights ) * 100\n",
    "\n",
    "\n",
    "print (AlaskaPercentDelay)"
   ]
  },
  {
   "cell_type": "code",
   "execution_count": 9,
   "id": "a93d2170-d4d4-49f6-acbe-50bd436c00b9",
   "metadata": {},
   "outputs": [
    {
     "name": "stdout",
     "output_type": "stream",
     "text": [
      "6     14.426634\n",
      "7      7.897241\n",
      "8     14.508929\n",
      "9     28.730512\n",
      "10    23.282443\n",
      "dtype: float64\n"
     ]
    }
   ],
   "source": [
    "AMWFlights = df['arr_delay'].tail() + df['arr_time'].tail()\n",
    "AMWPercentDelay = (df['arr_delay'].tail() / AMWFlights ) * 100\n",
    "\n",
    "\n",
    "print (AMWPercentDelay)"
   ]
  },
  {
   "cell_type": "code",
   "execution_count": null,
   "id": "4c703926-b051-4b3f-a337-33d49c8d9f85",
   "metadata": {},
   "outputs": [],
   "source": []
  }
 ],
 "metadata": {
  "kernelspec": {
   "display_name": "Python 3 (ipykernel)",
   "language": "python",
   "name": "python3"
  },
  "language_info": {
   "codemirror_mode": {
    "name": "ipython",
    "version": 3
   },
   "file_extension": ".py",
   "mimetype": "text/x-python",
   "name": "python",
   "nbconvert_exporter": "python",
   "pygments_lexer": "ipython3",
   "version": "3.11.5"
  }
 },
 "nbformat": 4,
 "nbformat_minor": 5
}
