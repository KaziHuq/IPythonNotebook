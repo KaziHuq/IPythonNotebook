{
 "cells": [
  {
   "cell_type": "code",
   "execution_count": 1,
   "id": "1064191e-9894-41aa-b263-10a4709f60a0",
   "metadata": {},
   "outputs": [
    {
     "ename": "ModuleNotFoundError",
     "evalue": "No module named 'matplotlib'",
     "output_type": "error",
     "traceback": [
      "\u001b[1;31m---------------------------------------------------------------------------\u001b[0m",
      "\u001b[1;31mModuleNotFoundError\u001b[0m                       Traceback (most recent call last)",
      "Cell \u001b[1;32mIn[1], line 1\u001b[0m\n\u001b[1;32m----> 1\u001b[0m \u001b[38;5;28;01mimport\u001b[39;00m \u001b[38;5;21;01mmatplotlib\u001b[39;00m\u001b[38;5;21;01m.\u001b[39;00m\u001b[38;5;21;01mpyplot\u001b[39;00m \u001b[38;5;28;01mas\u001b[39;00m \u001b[38;5;21;01mplt\u001b[39;00m \n\u001b[0;32m      2\u001b[0m \u001b[38;5;28;01mimport\u001b[39;00m \u001b[38;5;21;01mseaborn\u001b[39;00m \u001b[38;5;28;01mas\u001b[39;00m \u001b[38;5;21;01msea\u001b[39;00m\n\u001b[0;32m      3\u001b[0m \u001b[38;5;28;01mfrom\u001b[39;00m \u001b[38;5;21;01msklearn\u001b[39;00m\u001b[38;5;21;01m.\u001b[39;00m\u001b[38;5;21;01mneighbors\u001b[39;00m \u001b[38;5;28;01mimport\u001b[39;00m KNeighborsClassifier\n",
      "\u001b[1;31mModuleNotFoundError\u001b[0m: No module named 'matplotlib'"
     ]
    }
   ],
   "source": [
    "import matplotlib.pyplot as plt \n",
    "import seaborn as sea\n",
    "from sklearn.neighbors import KNeighborsClassifier\n",
    "from sklearn import metrics\n",
    "\n",
    "import numpy as no\n",
    "import pandas as pd\n",
    "\n",
    "#output options\n",
    "\n",
    "pd.set_option('display.notebook_repr_html', True)\n",
    "pd.set_option('display.max_rows', None)\n",
    "pd.set_option('display.max_columns', None)\n",
    "\n",
    "#seaborn output\n",
    "\n",
    "sea.set(style='whitegrid', font_scale=6)\n",
    "sea.set_color_codes('pastel')"
   ]
  },
  {
   "cell_type": "code",
   "execution_count": 2,
   "id": "51853e09-7216-43c6-89fa-f96e592dfa28",
   "metadata": {},
   "outputs": [
    {
     "ename": "NameError",
     "evalue": "name 'pd' is not defined",
     "output_type": "error",
     "traceback": [
      "\u001b[1;31m---------------------------------------------------------------------------\u001b[0m",
      "\u001b[1;31mNameError\u001b[0m                                 Traceback (most recent call last)",
      "Cell \u001b[1;32mIn[2], line 3\u001b[0m\n\u001b[0;32m      1\u001b[0m \u001b[38;5;66;03m#importing the data\u001b[39;00m\n\u001b[1;32m----> 3\u001b[0m data \u001b[38;5;241m=\u001b[39m \u001b[43mpd\u001b[49m\u001b[38;5;241m.\u001b[39mread_csv(\u001b[38;5;124m\"\u001b[39m\u001b[38;5;124magaricus-lepiota.data.txt\u001b[39m\u001b[38;5;124m\"\u001b[39m, \\\n\u001b[0;32m      4\u001b[0m                   header \u001b[38;5;241m=\u001b[39m \u001b[38;5;28;01mNone\u001b[39;00m, \\\n\u001b[0;32m      5\u001b[0m                   usecols \u001b[38;5;241m=\u001b[39m [\u001b[38;5;241m0\u001b[39m, \u001b[38;5;241m3\u001b[39m, \u001b[38;5;241m5\u001b[39m], \\\n\u001b[0;32m      6\u001b[0m                   names \u001b[38;5;241m=\u001b[39m [\u001b[38;5;124m'\u001b[39m\u001b[38;5;124mpoisonous\u001b[39m\u001b[38;5;124m'\u001b[39m, \u001b[38;5;124m'\u001b[39m\u001b[38;5;124mcolor\u001b[39m\u001b[38;5;124m'\u001b[39m, \u001b[38;5;124m'\u001b[39m\u001b[38;5;124modor\u001b[39m\u001b[38;5;124m'\u001b[39m])\n\u001b[0;32m      8\u001b[0m data\u001b[38;5;241m.\u001b[39mhead(\u001b[38;5;241m5\u001b[39m)\n",
      "\u001b[1;31mNameError\u001b[0m: name 'pd' is not defined"
     ]
    }
   ],
   "source": [
    "#importing the data\n",
    "\n",
    "data = pd.read_csv(\"agaricus-lepiota.data.txt\", \\\n",
    "                  header = None, \\\n",
    "                  usecols = [0, 3, 5], \\\n",
    "                  names = ['poisonous', 'color', 'odor'])\n",
    "\n",
    "data.head(5)"
   ]
  },
  {
   "cell_type": "code",
   "execution_count": 3,
   "id": "2f848810-74a8-4b0a-a08f-b1eeec052a81",
   "metadata": {},
   "outputs": [
    {
     "ename": "NameError",
     "evalue": "name 'data' is not defined",
     "output_type": "error",
     "traceback": [
      "\u001b[1;31m---------------------------------------------------------------------------\u001b[0m",
      "\u001b[1;31mNameError\u001b[0m                                 Traceback (most recent call last)",
      "Cell \u001b[1;32mIn[3], line 8\u001b[0m\n\u001b[0;32m      1\u001b[0m \u001b[38;5;66;03m#define value for posinous column. 0 for 'e' and 1 for 'p'\u001b[39;00m\n\u001b[0;32m      3\u001b[0m newValues \u001b[38;5;241m=\u001b[39m {\n\u001b[0;32m      4\u001b[0m     \u001b[38;5;124m'\u001b[39m\u001b[38;5;124me\u001b[39m\u001b[38;5;124m'\u001b[39m : \u001b[38;5;241m0\u001b[39m, \\\n\u001b[0;32m      5\u001b[0m     \u001b[38;5;124m'\u001b[39m\u001b[38;5;124mp\u001b[39m\u001b[38;5;124m'\u001b[39m : \u001b[38;5;241m1\u001b[39m\n\u001b[0;32m      6\u001b[0m }\n\u001b[1;32m----> 8\u001b[0m \u001b[43mdata\u001b[49m\u001b[38;5;241m.\u001b[39mreplace({\u001b[38;5;124m'\u001b[39m\u001b[38;5;124mpoisonous\u001b[39m\u001b[38;5;124m'\u001b[39m: newValues}, inplace\u001b[38;5;241m=\u001b[39m\u001b[38;5;28;01mTrue\u001b[39;00m)\n\u001b[0;32m     10\u001b[0m data\u001b[38;5;241m.\u001b[39mhead(\u001b[38;5;241m5\u001b[39m)\n",
      "\u001b[1;31mNameError\u001b[0m: name 'data' is not defined"
     ]
    }
   ],
   "source": [
    "#define value for posinous column. 0 for 'e' and 1 for 'p'\n",
    "\n",
    "newValues = {\n",
    "    'e' : 0, \\\n",
    "    'p' : 1\n",
    "}\n",
    "\n",
    "data.replace({'poisonous': newValues}, inplace=True)\n",
    "\n",
    "data.head(5)"
   ]
  },
  {
   "cell_type": "code",
   "execution_count": 4,
   "id": "4360367b-288a-438d-91fd-8dde381520b3",
   "metadata": {},
   "outputs": [
    {
     "ename": "NameError",
     "evalue": "name 'data' is not defined",
     "output_type": "error",
     "traceback": [
      "\u001b[1;31m---------------------------------------------------------------------------\u001b[0m",
      "\u001b[1;31mNameError\u001b[0m                                 Traceback (most recent call last)",
      "Cell \u001b[1;32mIn[4], line 16\u001b[0m\n\u001b[0;32m      1\u001b[0m \u001b[38;5;66;03m#define values for color columns\u001b[39;00m\n\u001b[0;32m      3\u001b[0m newColorValues \u001b[38;5;241m=\u001b[39m {\n\u001b[0;32m      4\u001b[0m     \u001b[38;5;124m'\u001b[39m\u001b[38;5;124mn\u001b[39m\u001b[38;5;124m'\u001b[39m : \u001b[38;5;241m0\u001b[39m, \\\n\u001b[0;32m      5\u001b[0m     \u001b[38;5;124m'\u001b[39m\u001b[38;5;124mb\u001b[39m\u001b[38;5;124m'\u001b[39m : \u001b[38;5;241m1\u001b[39m, \\\n\u001b[1;32m   (...)\u001b[0m\n\u001b[0;32m     13\u001b[0m     \u001b[38;5;124m'\u001b[39m\u001b[38;5;124my\u001b[39m\u001b[38;5;124m'\u001b[39m : \u001b[38;5;241m9\u001b[39m, \\\n\u001b[0;32m     14\u001b[0m }\n\u001b[1;32m---> 16\u001b[0m \u001b[43mdata\u001b[49m\u001b[38;5;241m.\u001b[39mreplace({\u001b[38;5;124m'\u001b[39m\u001b[38;5;124mcolor\u001b[39m\u001b[38;5;124m'\u001b[39m: newColorValues}, inplace\u001b[38;5;241m=\u001b[39m\u001b[38;5;28;01mTrue\u001b[39;00m)\n\u001b[0;32m     17\u001b[0m data\u001b[38;5;241m.\u001b[39mhead(\u001b[38;5;241m5\u001b[39m)\n",
      "\u001b[1;31mNameError\u001b[0m: name 'data' is not defined"
     ]
    }
   ],
   "source": [
    "#define values for color columns\n",
    "\n",
    "newColorValues = {\n",
    "    'n' : 0, \\\n",
    "    'b' : 1, \\\n",
    "    'c' : 2, \\\n",
    "    'g' : 3, \\\n",
    "    'r' : 4, \\\n",
    "    'p' : 5, \\\n",
    "    'u' : 6, \\\n",
    "    'e' : 7, \\\n",
    "    'w' : 8, \\\n",
    "    'y' : 9, \\\n",
    "}\n",
    "\n",
    "data.replace({'color': newColorValues}, inplace=True)\n",
    "data.head(5)"
   ]
  },
  {
   "cell_type": "code",
   "execution_count": 5,
   "id": "3f80c68b-95dd-4d0d-bac0-9689b5c5c13a",
   "metadata": {},
   "outputs": [
    {
     "ename": "NameError",
     "evalue": "name 'data' is not defined",
     "output_type": "error",
     "traceback": [
      "\u001b[1;31m---------------------------------------------------------------------------\u001b[0m",
      "\u001b[1;31mNameError\u001b[0m                                 Traceback (most recent call last)",
      "Cell \u001b[1;32mIn[5], line 15\u001b[0m\n\u001b[0;32m      1\u001b[0m \u001b[38;5;66;03m#define values for odor columns\u001b[39;00m\n\u001b[0;32m      3\u001b[0m newOdorValues \u001b[38;5;241m=\u001b[39m {\n\u001b[0;32m      4\u001b[0m     \u001b[38;5;124m'\u001b[39m\u001b[38;5;124ma\u001b[39m\u001b[38;5;124m'\u001b[39m : \u001b[38;5;241m0\u001b[39m, \\\n\u001b[0;32m      5\u001b[0m     \u001b[38;5;124m'\u001b[39m\u001b[38;5;124ml\u001b[39m\u001b[38;5;124m'\u001b[39m : \u001b[38;5;241m1\u001b[39m, \\\n\u001b[1;32m   (...)\u001b[0m\n\u001b[0;32m     12\u001b[0m     \u001b[38;5;124m'\u001b[39m\u001b[38;5;124ms\u001b[39m\u001b[38;5;124m'\u001b[39m : \u001b[38;5;241m8\u001b[39m, \n\u001b[0;32m     13\u001b[0m }\n\u001b[1;32m---> 15\u001b[0m \u001b[43mdata\u001b[49m\u001b[38;5;241m.\u001b[39mreplace({\u001b[38;5;124m'\u001b[39m\u001b[38;5;124modor\u001b[39m\u001b[38;5;124m'\u001b[39m: newOdorValues}, inplace\u001b[38;5;241m=\u001b[39m\u001b[38;5;28;01mTrue\u001b[39;00m)\n\u001b[0;32m     16\u001b[0m data\u001b[38;5;241m.\u001b[39mhead(\u001b[38;5;241m5\u001b[39m)\n",
      "\u001b[1;31mNameError\u001b[0m: name 'data' is not defined"
     ]
    }
   ],
   "source": [
    "#define values for odor columns\n",
    "\n",
    "newOdorValues = {\n",
    "    'a' : 0, \\\n",
    "    'l' : 1, \\\n",
    "    'c' : 2, \\\n",
    "    'y' : 3, \\\n",
    "    'f' : 4, \\\n",
    "    'm' : 5, \\\n",
    "    'n' : 6, \\\n",
    "    'p' : 7, \\\n",
    "    's' : 8, \n",
    "}\n",
    "\n",
    "data.replace({'odor': newOdorValues}, inplace=True)\n",
    "data.head(5)"
   ]
  },
  {
   "cell_type": "code",
   "execution_count": 6,
   "id": "6fb5c7a2-093d-425f-81c1-fc9c85fd1793",
   "metadata": {},
   "outputs": [
    {
     "ename": "NameError",
     "evalue": "name 'data' is not defined",
     "output_type": "error",
     "traceback": [
      "\u001b[1;31m---------------------------------------------------------------------------\u001b[0m",
      "\u001b[1;31mNameError\u001b[0m                                 Traceback (most recent call last)",
      "Cell \u001b[1;32mIn[6], line 2\u001b[0m\n\u001b[0;32m      1\u001b[0m \u001b[38;5;66;03m#shape the dataset\u001b[39;00m\n\u001b[1;32m----> 2\u001b[0m \u001b[43mdata\u001b[49m\u001b[38;5;241m.\u001b[39mshape\n",
      "\u001b[1;31mNameError\u001b[0m: name 'data' is not defined"
     ]
    }
   ],
   "source": [
    "#shape the dataset\n",
    "data.shape"
   ]
  },
  {
   "cell_type": "code",
   "execution_count": 7,
   "id": "fa51f563-47b8-4c15-a813-6b485d67efab",
   "metadata": {},
   "outputs": [
    {
     "ename": "NameError",
     "evalue": "name 'pd' is not defined",
     "output_type": "error",
     "traceback": [
      "\u001b[1;31m---------------------------------------------------------------------------\u001b[0m",
      "\u001b[1;31mNameError\u001b[0m                                 Traceback (most recent call last)",
      "Cell \u001b[1;32mIn[7], line 3\u001b[0m\n\u001b[0;32m      1\u001b[0m \u001b[38;5;66;03m#create dataset for training and testing\u001b[39;00m\n\u001b[1;32m----> 3\u001b[0m setPoisonous \u001b[38;5;241m=\u001b[39m \u001b[43mpd\u001b[49m\u001b[38;5;241m.\u001b[39mSeries(data\u001b[38;5;241m.\u001b[39mpoisonous[:\u001b[38;5;241m7999\u001b[39m])\n\u001b[0;32m      4\u001b[0m setColor \u001b[38;5;241m=\u001b[39m pd\u001b[38;5;241m.\u001b[39mSeries(data\u001b[38;5;241m.\u001b[39mcolor[:\u001b[38;5;241m7999\u001b[39m])\n\u001b[0;32m      5\u001b[0m setodor \u001b[38;5;241m=\u001b[39m pd\u001b[38;5;241m.\u001b[39mSeries(data\u001b[38;5;241m.\u001b[39modor[:\u001b[38;5;241m7999\u001b[39m])\n",
      "\u001b[1;31mNameError\u001b[0m: name 'pd' is not defined"
     ]
    }
   ],
   "source": [
    "#create dataset for training and testing\n",
    "\n",
    "setPoisonous = pd.Series(data.poisonous[:7999])\n",
    "setColor = pd.Series(data.color[:7999])\n",
    "setodor = pd.Series(data.odor[:7999])\n",
    "\n",
    "#Assign the dataset to a new dataframe\n",
    "\n",
    "newData = pd.DataFrame({'color':setColor, 'odor':setodor, 'poisonous':setPoisonous})\n",
    "\n",
    "#Assign another dataframe\n",
    "\n",
    "setPoisonous = pd.Series(data.poisonous[8000:])\n",
    "setColor = pd.Series(data.color[8000:])\n",
    "setodor = pd.Series(data.odor[8000:])\n",
    "\n",
    "#Assign the dataset to a new dataframe\n",
    "\n",
    "testData = pd.DataFrame({'color':setColor, 'odor':setodor, 'poisonous':setPoisonous})\n",
    "\n",
    "print(newData.dtypes)\n",
    "print(testData.dtypes)"
   ]
  },
  {
   "cell_type": "code",
   "execution_count": 8,
   "id": "7dad022f-abeb-4e09-ae88-c0109372165a",
   "metadata": {},
   "outputs": [
    {
     "ename": "NameError",
     "evalue": "name 'KNeighborsClassifier' is not defined",
     "output_type": "error",
     "traceback": [
      "\u001b[1;31m---------------------------------------------------------------------------\u001b[0m",
      "\u001b[1;31mNameError\u001b[0m                                 Traceback (most recent call last)",
      "Cell \u001b[1;32mIn[8], line 3\u001b[0m\n\u001b[0;32m      1\u001b[0m \u001b[38;5;66;03m#create three different dataset to test against\u001b[39;00m\n\u001b[1;32m----> 3\u001b[0m nColor \u001b[38;5;241m=\u001b[39m \u001b[43mKNeighborsClassifier\u001b[49m(n_neighbors \u001b[38;5;241m=\u001b[39m \u001b[38;5;241m5\u001b[39m)\n\u001b[0;32m      4\u001b[0m nOdor \u001b[38;5;241m=\u001b[39m KNeighborsClassifier(n_neighbors \u001b[38;5;241m=\u001b[39m \u001b[38;5;241m5\u001b[39m)\n\u001b[0;32m      5\u001b[0m nBoth \u001b[38;5;241m=\u001b[39m KNeighborsClassifier(n_neighbors \u001b[38;5;241m=\u001b[39m \u001b[38;5;241m5\u001b[39m)\n",
      "\u001b[1;31mNameError\u001b[0m: name 'KNeighborsClassifier' is not defined"
     ]
    }
   ],
   "source": [
    "#create three different dataset to test against\n",
    "\n",
    "nColor = KNeighborsClassifier(n_neighbors = 5)\n",
    "nOdor = KNeighborsClassifier(n_neighbors = 5)\n",
    "nBoth = KNeighborsClassifier(n_neighbors = 5)\n",
    "\n",
    "nColor.fit(newData[['color']].values, \\\n",
    "          newData[['poisonous']].values.ravel())\n",
    "\n",
    "nOdor.fit(newData[['odor']].values, \\\n",
    "          newData[['poisonous']].values.ravel())\n",
    "\n",
    "nBoth.fit(newData[['color','odor']].values, \\\n",
    "          newData[['poisonous']].values.ravel())"
   ]
  },
  {
   "cell_type": "code",
   "execution_count": 9,
   "id": "6cfbc7b2-7a4b-4be7-8e75-45278373b04e",
   "metadata": {},
   "outputs": [
    {
     "ename": "NameError",
     "evalue": "name 'pd' is not defined",
     "output_type": "error",
     "traceback": [
      "\u001b[1;31m---------------------------------------------------------------------------\u001b[0m",
      "\u001b[1;31mNameError\u001b[0m                                 Traceback (most recent call last)",
      "Cell \u001b[1;32mIn[9], line 1\u001b[0m\n\u001b[1;32m----> 1\u001b[0m testData[\u001b[38;5;124m'\u001b[39m\u001b[38;5;124mpreColor\u001b[39m\u001b[38;5;124m'\u001b[39m] \u001b[38;5;241m=\u001b[39m \u001b[43mpd\u001b[49m\u001b[38;5;241m.\u001b[39mSeries(nColor\u001b[38;5;241m.\u001b[39mpredict(testData[[\u001b[38;5;124m'\u001b[39m\u001b[38;5;124mcolor\u001b[39m\u001b[38;5;124m'\u001b[39m]]\u001b[38;5;241m.\u001b[39mvalues), testData\u001b[38;5;241m.\u001b[39mindex)\\\n\u001b[0;32m      3\u001b[0m \u001b[38;5;28mprint\u001b[39m(metrics\u001b[38;5;241m.\u001b[39maccuracy_score( \\\n\u001b[0;32m      4\u001b[0m                             testData[[\u001b[38;5;124m'\u001b[39m\u001b[38;5;124mpoisonous\u001b[39m\u001b[38;5;124m'\u001b[39m]]\u001b[38;5;241m.\u001b[39mvalues\u001b[38;5;241m.\u001b[39mravel(), \\\n\u001b[0;32m      5\u001b[0m                             testData[[\u001b[38;5;124m'\u001b[39m\u001b[38;5;124mpreColor\u001b[39m\u001b[38;5;124m'\u001b[39m]]\u001b[38;5;241m.\u001b[39mvalues))\n",
      "\u001b[1;31mNameError\u001b[0m: name 'pd' is not defined"
     ]
    }
   ],
   "source": [
    "testData['preColor'] = pd.Series(nColor.predict(testData[['color']].values), testData.index)\\\n",
    "\n",
    "print(metrics.accuracy_score( \\\n",
    "                            testData[['poisonous']].values.ravel(), \\\n",
    "                            testData[['preColor']].values))"
   ]
  },
  {
   "cell_type": "code",
   "execution_count": 10,
   "id": "69a5359a-e50d-46b7-b7ac-ac62ca29419e",
   "metadata": {},
   "outputs": [
    {
     "ename": "NameError",
     "evalue": "name 'pd' is not defined",
     "output_type": "error",
     "traceback": [
      "\u001b[1;31m---------------------------------------------------------------------------\u001b[0m",
      "\u001b[1;31mNameError\u001b[0m                                 Traceback (most recent call last)",
      "Cell \u001b[1;32mIn[10], line 1\u001b[0m\n\u001b[1;32m----> 1\u001b[0m testData[\u001b[38;5;124m'\u001b[39m\u001b[38;5;124mpreOdor\u001b[39m\u001b[38;5;124m'\u001b[39m] \u001b[38;5;241m=\u001b[39m \u001b[43mpd\u001b[49m\u001b[38;5;241m.\u001b[39mSeries(nColor\u001b[38;5;241m.\u001b[39mpredict(testData[[\u001b[38;5;124m'\u001b[39m\u001b[38;5;124modor\u001b[39m\u001b[38;5;124m'\u001b[39m]]\u001b[38;5;241m.\u001b[39mvalues), testData\u001b[38;5;241m.\u001b[39mindex)\\\n\u001b[0;32m      3\u001b[0m \u001b[38;5;28mprint\u001b[39m(metrics\u001b[38;5;241m.\u001b[39maccuracy_score( \\\n\u001b[0;32m      4\u001b[0m                             testData[[\u001b[38;5;124m'\u001b[39m\u001b[38;5;124mpoisonous\u001b[39m\u001b[38;5;124m'\u001b[39m]]\u001b[38;5;241m.\u001b[39mvalues\u001b[38;5;241m.\u001b[39mravel(), \\\n\u001b[0;32m      5\u001b[0m                             testData[[\u001b[38;5;124m'\u001b[39m\u001b[38;5;124mpreOdor\u001b[39m\u001b[38;5;124m'\u001b[39m]]\u001b[38;5;241m.\u001b[39mvalues))\n",
      "\u001b[1;31mNameError\u001b[0m: name 'pd' is not defined"
     ]
    }
   ],
   "source": [
    "testData['preOdor'] = pd.Series(nColor.predict(testData[['odor']].values), testData.index)\\\n",
    "\n",
    "print(metrics.accuracy_score( \\\n",
    "                            testData[['poisonous']].values.ravel(), \\\n",
    "                            testData[['preOdor']].values))"
   ]
  },
  {
   "cell_type": "code",
   "execution_count": 11,
   "id": "f5a496f2-54a5-4ae8-af16-b33ee6e7999b",
   "metadata": {},
   "outputs": [
    {
     "ename": "NameError",
     "evalue": "name 'sea' is not defined",
     "output_type": "error",
     "traceback": [
      "\u001b[1;31m---------------------------------------------------------------------------\u001b[0m",
      "\u001b[1;31mNameError\u001b[0m                                 Traceback (most recent call last)",
      "Cell \u001b[1;32mIn[11], line 1\u001b[0m\n\u001b[1;32m----> 1\u001b[0m \u001b[43msea\u001b[49m\u001b[38;5;241m.\u001b[39mlmplot(\u001b[38;5;124m'\u001b[39m\u001b[38;5;124modor\u001b[39m\u001b[38;5;124m'\u001b[39m, \u001b[38;5;124m'\u001b[39m\u001b[38;5;124mpoisonous\u001b[39m\u001b[38;5;124m'\u001b[39m, data\u001b[38;5;241m=\u001b[39mtestData, size\u001b[38;5;241m=\u001b[39m\u001b[38;5;241m25\u001b[39m, aspect\u001b[38;5;241m=\u001b[39m\u001b[38;5;241m1.5\u001b[39m, scatter_kws\u001b[38;5;241m=\u001b[39m{\u001b[38;5;124m\"\u001b[39m\u001b[38;5;124ms\u001b[39m\u001b[38;5;124m\"\u001b[39m: \u001b[38;5;241m1500\u001b[39m})\n",
      "\u001b[1;31mNameError\u001b[0m: name 'sea' is not defined"
     ]
    }
   ],
   "source": [
    "sea.lmplot('odor', 'poisonous', data=testData, size=25, aspect=1.5, scatter_kws={\"s\": 1500})"
   ]
  },
  {
   "cell_type": "code",
   "execution_count": 12,
   "id": "73382448-d297-46dd-b884-e82f5e585314",
   "metadata": {},
   "outputs": [
    {
     "ename": "NameError",
     "evalue": "name 'sea' is not defined",
     "output_type": "error",
     "traceback": [
      "\u001b[1;31m---------------------------------------------------------------------------\u001b[0m",
      "\u001b[1;31mNameError\u001b[0m                                 Traceback (most recent call last)",
      "Cell \u001b[1;32mIn[12], line 1\u001b[0m\n\u001b[1;32m----> 1\u001b[0m \u001b[43msea\u001b[49m\u001b[38;5;241m.\u001b[39mlmplot(\u001b[38;5;124m'\u001b[39m\u001b[38;5;124mcolor\u001b[39m\u001b[38;5;124m'\u001b[39m, \u001b[38;5;124m'\u001b[39m\u001b[38;5;124mpoisonous\u001b[39m\u001b[38;5;124m'\u001b[39m, data\u001b[38;5;241m=\u001b[39mtestData, size\u001b[38;5;241m=\u001b[39m\u001b[38;5;241m25\u001b[39m, aspect\u001b[38;5;241m=\u001b[39m\u001b[38;5;241m1.5\u001b[39m, scatter_kws\u001b[38;5;241m=\u001b[39m{\u001b[38;5;124m\"\u001b[39m\u001b[38;5;124ms\u001b[39m\u001b[38;5;124m\"\u001b[39m: \u001b[38;5;241m1500\u001b[39m})\n",
      "\u001b[1;31mNameError\u001b[0m: name 'sea' is not defined"
     ]
    }
   ],
   "source": [
    "sea.lmplot('color', 'poisonous', data=testData, size=25, aspect=1.5, scatter_kws={\"s\": 1500})"
   ]
  },
  {
   "cell_type": "code",
   "execution_count": 13,
   "id": "09944fd1-a7b7-43a1-9331-763f76590f96",
   "metadata": {},
   "outputs": [
    {
     "ename": "NameError",
     "evalue": "name 'sea' is not defined",
     "output_type": "error",
     "traceback": [
      "\u001b[1;31m---------------------------------------------------------------------------\u001b[0m",
      "\u001b[1;31mNameError\u001b[0m                                 Traceback (most recent call last)",
      "Cell \u001b[1;32mIn[13], line 1\u001b[0m\n\u001b[1;32m----> 1\u001b[0m \u001b[43msea\u001b[49m\u001b[38;5;241m.\u001b[39mlmplot(\u001b[38;5;124m'\u001b[39m\u001b[38;5;124mcolor\u001b[39m\u001b[38;5;124m'\u001b[39m, \u001b[38;5;124m'\u001b[39m\u001b[38;5;124mpoisonous\u001b[39m\u001b[38;5;124m'\u001b[39m, data\u001b[38;5;241m=\u001b[39mnewData, size\u001b[38;5;241m=\u001b[39m\u001b[38;5;241m25\u001b[39m, aspect\u001b[38;5;241m=\u001b[39m\u001b[38;5;241m1.5\u001b[39m, scatter_kws\u001b[38;5;241m=\u001b[39m{\u001b[38;5;124m\"\u001b[39m\u001b[38;5;124ms\u001b[39m\u001b[38;5;124m\"\u001b[39m: \u001b[38;5;241m1500\u001b[39m})\n",
      "\u001b[1;31mNameError\u001b[0m: name 'sea' is not defined"
     ]
    }
   ],
   "source": [
    "sea.lmplot('color', 'poisonous', data=newData, size=25, aspect=1.5, scatter_kws={\"s\": 1500})"
   ]
  },
  {
   "cell_type": "code",
   "execution_count": 14,
   "id": "422f7c0b-0631-4320-9be5-82118edd5782",
   "metadata": {},
   "outputs": [
    {
     "ename": "NameError",
     "evalue": "name 'sea' is not defined",
     "output_type": "error",
     "traceback": [
      "\u001b[1;31m---------------------------------------------------------------------------\u001b[0m",
      "\u001b[1;31mNameError\u001b[0m                                 Traceback (most recent call last)",
      "Cell \u001b[1;32mIn[14], line 1\u001b[0m\n\u001b[1;32m----> 1\u001b[0m \u001b[43msea\u001b[49m\u001b[38;5;241m.\u001b[39mlmplot(\u001b[38;5;124m'\u001b[39m\u001b[38;5;124modor\u001b[39m\u001b[38;5;124m'\u001b[39m, \u001b[38;5;124m'\u001b[39m\u001b[38;5;124mpoisonous\u001b[39m\u001b[38;5;124m'\u001b[39m, data\u001b[38;5;241m=\u001b[39mnewData, size\u001b[38;5;241m=\u001b[39m\u001b[38;5;241m25\u001b[39m, aspect\u001b[38;5;241m=\u001b[39m\u001b[38;5;241m1.5\u001b[39m, scatter_kws\u001b[38;5;241m=\u001b[39m{\u001b[38;5;124m\"\u001b[39m\u001b[38;5;124ms\u001b[39m\u001b[38;5;124m\"\u001b[39m: \u001b[38;5;241m1500\u001b[39m})\n",
      "\u001b[1;31mNameError\u001b[0m: name 'sea' is not defined"
     ]
    }
   ],
   "source": [
    "sea.lmplot('odor', 'poisonous', data=newData, size=25, aspect=1.5, scatter_kws={\"s\": 1500})"
   ]
  },
  {
   "cell_type": "code",
   "execution_count": null,
   "id": "d9fb240d-4438-4a41-afaf-7174569a0011",
   "metadata": {},
   "outputs": [],
   "source": []
  }
 ],
 "metadata": {
  "kernelspec": {
   "display_name": "Python 3 (ipykernel)",
   "language": "python",
   "name": "python3"
  },
  "language_info": {
   "codemirror_mode": {
    "name": "ipython",
    "version": 3
   },
   "file_extension": ".py",
   "mimetype": "text/x-python",
   "name": "python",
   "nbconvert_exporter": "python",
   "pygments_lexer": "ipython3",
   "version": "3.11.5"
  }
 },
 "nbformat": 4,
 "nbformat_minor": 5
}
