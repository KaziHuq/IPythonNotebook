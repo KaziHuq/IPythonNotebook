{
 "cells": [
  {
   "cell_type": "code",
   "execution_count": 18,
   "id": "681edbf9-e0b7-4eb9-9e64-6dfb9215abef",
   "metadata": {},
   "outputs": [
    {
     "name": "stdout",
     "output_type": "stream",
     "text": [
      "                              track_name      artist(s)_name  artist_count  \\\n",
      "0    Seven (feat. Latto) (Explicit Ver.)    Latto, Jung Kook             2   \n",
      "1                                   LALA         Myke Towers             1   \n",
      "2                                vampire      Olivia Rodrigo             1   \n",
      "3                           Cruel Summer        Taylor Swift             1   \n",
      "4                         WHERE SHE GOES           Bad Bunny             1   \n",
      "..                                   ...                 ...           ...   \n",
      "948                         My Mind & Me        Selena Gomez             1   \n",
      "949            Bigger Than The Whole Sky        Taylor Swift             1   \n",
      "950                 A Veces (feat. Feid)  Feid, Paulo Londra             2   \n",
      "951                        En La De Ella  Feid, Sech, Jhayco             3   \n",
      "952                                Alone           Burna Boy             1   \n",
      "\n",
      "     released_year  released_month  released_day  in_spotify_playlists  \\\n",
      "0             2023               7            14                   553   \n",
      "1             2023               3            23                  1474   \n",
      "2             2023               6            30                  1397   \n",
      "3             2019               8            23                  7858   \n",
      "4             2023               5            18                  3133   \n",
      "..             ...             ...           ...                   ...   \n",
      "948           2022              11             3                   953   \n",
      "949           2022              10            21                  1180   \n",
      "950           2022              11             3                   573   \n",
      "951           2022              10            20                  1320   \n",
      "952           2022              11             4                   782   \n",
      "\n",
      "     in_spotify_charts    streams  in_apple_playlists  ...  bpm key   mode  \\\n",
      "0                  147  141381703                  43  ...  125   B  Major   \n",
      "1                   48  133716286                  48  ...   92  C#  Major   \n",
      "2                  113  140003974                  94  ...  138   F  Major   \n",
      "3                  100  800840817                 116  ...  170   A  Major   \n",
      "4                   50  303236322                  84  ...  144   A  Minor   \n",
      "..                 ...        ...                 ...  ...  ...  ..    ...   \n",
      "948                  0   91473363                  61  ...  144   A  Major   \n",
      "949                  0  121871870                   4  ...  166  F#  Major   \n",
      "950                  0   73513683                   2  ...   92  C#  Major   \n",
      "951                  0  133895612                  29  ...   97  C#  Major   \n",
      "952                  2   96007391                  27  ...   90   E  Minor   \n",
      "\n",
      "    danceability_%  valence_% energy_% acousticness_%  instrumentalness_%  \\\n",
      "0               80         89       83             31                   0   \n",
      "1               71         61       74              7                   0   \n",
      "2               51         32       53             17                   0   \n",
      "3               55         58       72             11                   0   \n",
      "4               65         23       80             14                  63   \n",
      "..             ...        ...      ...            ...                 ...   \n",
      "948             60         24       39             57                   0   \n",
      "949             42          7       24             83                   1   \n",
      "950             80         81       67              4                   0   \n",
      "951             82         67       77              8                   0   \n",
      "952             61         32       67             15                   0   \n",
      "\n",
      "     liveness_%  speechiness_%  \n",
      "0             8              4  \n",
      "1            10              4  \n",
      "2            31              6  \n",
      "3            11             15  \n",
      "4            11              6  \n",
      "..          ...            ...  \n",
      "948           8              3  \n",
      "949          12              6  \n",
      "950           8              6  \n",
      "951          12              5  \n",
      "952          11              5  \n",
      "\n",
      "[953 rows x 24 columns]\n"
     ]
    }
   ],
   "source": [
    "import pandas as pd\n",
    "\n",
    "data = pd.read_csv('spotify_2023.csv')\n",
    "\n",
    "print(d)"
   ]
  },
  {
   "cell_type": "code",
   "execution_count": 52,
   "id": "320367d8-5f5d-41f5-bc76-80a2e85f4228",
   "metadata": {},
   "outputs": [
    {
     "name": "stdout",
     "output_type": "stream",
     "text": [
      "Most number of play a single song =  52898\n"
     ]
    }
   ],
   "source": [
    "#Most number of play a single song in the spotify playlists\n",
    "maxPlay = data['in_spotify_playlists'].max()\n",
    "\n",
    "print(\"Most number of play a single song = \", maxPlay)"
   ]
  },
  {
   "cell_type": "code",
   "execution_count": 64,
   "id": "5584ea4b-e675-40d9-87b2-6cfd743df5ad",
   "metadata": {},
   "outputs": [
    {
     "name": "stdout",
     "output_type": "stream",
     "text": [
      "853    False\n",
      "854    False\n",
      "855    False\n",
      "856    False\n",
      "857    False\n",
      "       ...  \n",
      "948    False\n",
      "949    False\n",
      "950    False\n",
      "951    False\n",
      "952    False\n",
      "Length: 100, dtype: bool\n"
     ]
    }
   ],
   "source": [
    "#print last 100 duplicated data; if there's no duplicated data print False \n",
    "\n",
    "print(data.duplicated().tail(100))"
   ]
  },
  {
   "cell_type": "code",
   "execution_count": 68,
   "id": "b108760c-c26b-4b7d-964a-f1f56229af3a",
   "metadata": {},
   "outputs": [
    {
     "name": "stdout",
     "output_type": "stream",
     "text": [
      "                              track_name        artists_name  artist_count  \\\n",
      "0    Seven (feat. Latto) (Explicit Ver.)    Latto, Jung Kook             2   \n",
      "1                                   LALA         Myke Towers             1   \n",
      "2                                vampire      Olivia Rodrigo             1   \n",
      "3                           Cruel Summer        Taylor Swift             1   \n",
      "4                         WHERE SHE GOES           Bad Bunny             1   \n",
      "..                                   ...                 ...           ...   \n",
      "948                         My Mind & Me        Selena Gomez             1   \n",
      "949            Bigger Than The Whole Sky        Taylor Swift             1   \n",
      "950                 A Veces (feat. Feid)  Feid, Paulo Londra             2   \n",
      "951                        En La De Ella  Feid, Sech, Jhayco             3   \n",
      "952                                Alone           Burna Boy             1   \n",
      "\n",
      "     released_year  released_month  released_day  in_spotify_playlists  \\\n",
      "0             2023               7            14                   553   \n",
      "1             2023               3            23                  1474   \n",
      "2             2023               6            30                  1397   \n",
      "3             2019               8            23                  7858   \n",
      "4             2023               5            18                  3133   \n",
      "..             ...             ...           ...                   ...   \n",
      "948           2022              11             3                   953   \n",
      "949           2022              10            21                  1180   \n",
      "950           2022              11             3                   573   \n",
      "951           2022              10            20                  1320   \n",
      "952           2022              11             4                   782   \n",
      "\n",
      "     in_spotify_charts    streams  in_apple_playlists  ...  bpm key   mode  \\\n",
      "0                  147  141381703                  43  ...  125   B  Major   \n",
      "1                   48  133716286                  48  ...   92  C#  Major   \n",
      "2                  113  140003974                  94  ...  138   F  Major   \n",
      "3                  100  800840817                 116  ...  170   A  Major   \n",
      "4                   50  303236322                  84  ...  144   A  Minor   \n",
      "..                 ...        ...                 ...  ...  ...  ..    ...   \n",
      "948                  0   91473363                  61  ...  144   A  Major   \n",
      "949                  0  121871870                   4  ...  166  F#  Major   \n",
      "950                  0   73513683                   2  ...   92  C#  Major   \n",
      "951                  0  133895612                  29  ...   97  C#  Major   \n",
      "952                  2   96007391                  27  ...   90   E  Minor   \n",
      "\n",
      "    danceability_%  valence_% energy_% acousticness_%  instrumentalness_%  \\\n",
      "0               80         89       83             31                   0   \n",
      "1               71         61       74              7                   0   \n",
      "2               51         32       53             17                   0   \n",
      "3               55         58       72             11                   0   \n",
      "4               65         23       80             14                  63   \n",
      "..             ...        ...      ...            ...                 ...   \n",
      "948             60         24       39             57                   0   \n",
      "949             42          7       24             83                   1   \n",
      "950             80         81       67              4                   0   \n",
      "951             82         67       77              8                   0   \n",
      "952             61         32       67             15                   0   \n",
      "\n",
      "     liveness_%  speechiness_%  \n",
      "0             8              4  \n",
      "1            10              4  \n",
      "2            31              6  \n",
      "3            11             15  \n",
      "4            11              6  \n",
      "..          ...            ...  \n",
      "948           8              3  \n",
      "949          12              6  \n",
      "950           8              6  \n",
      "951          12              5  \n",
      "952          11              5  \n",
      "\n",
      "[953 rows x 24 columns]\n"
     ]
    }
   ],
   "source": [
    "data.dropna(subset=['instrumentalness_%'], inplace = True)\n",
    "\n",
    "print(data)\n",
    "\n"
   ]
  },
  {
   "cell_type": "code",
   "execution_count": null,
   "id": "e166e7b3-1ee7-49b8-a6bd-0d0dccb8ff34",
   "metadata": {},
   "outputs": [],
   "source": []
  }
 ],
 "metadata": {
  "kernelspec": {
   "display_name": "Python 3 (ipykernel)",
   "language": "python",
   "name": "python3"
  },
  "language_info": {
   "codemirror_mode": {
    "name": "ipython",
    "version": 3
   },
   "file_extension": ".py",
   "mimetype": "text/x-python",
   "name": "python",
   "nbconvert_exporter": "python",
   "pygments_lexer": "ipython3",
   "version": "3.11.5"
  }
 },
 "nbformat": 4,
 "nbformat_minor": 5
}
