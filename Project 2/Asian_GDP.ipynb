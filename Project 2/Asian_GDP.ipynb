{
 "cells": [
  {
   "cell_type": "code",
   "execution_count": 1,
   "id": "ea31a99c-09da-4745-93a2-d5cb443f4d14",
   "metadata": {},
   "outputs": [
    {
     "name": "stdout",
     "output_type": "stream",
     "text": [
      "    RegionalMember           Year  GDP growth Unit of Measurement  \\\n",
      "0      Afghanistan           2016         2.3                   %   \n",
      "1      Afghanistan           2017         2.6                   %   \n",
      "2      Afghanistan           2018         1.2                   %   \n",
      "3      Afghanistan           2019         3.9                   %   \n",
      "4      Afghanistan           2020        -5.0                   %   \n",
      "..             ...            ...         ...                 ...   \n",
      "366       Viet Nam           2018         7.1                   %   \n",
      "367       Viet Nam           2019         7.0                   %   \n",
      "368       Viet Nam           2020         2.9                   %   \n",
      "369       Viet Nam  2021 forecast         6.7                   %   \n",
      "370       Viet Nam  2022 forecast         7.0                   %   \n",
      "\n",
      "          Subregion  Country Code  \n",
      "0        South Asia           AFG  \n",
      "1        South Asia           AFG  \n",
      "2        South Asia           AFG  \n",
      "3        South Asia           AFG  \n",
      "4        South Asia           AFG  \n",
      "..              ...           ...  \n",
      "366  Southeast Asia           VNM  \n",
      "367  Southeast Asia           VNM  \n",
      "368  Southeast Asia           VNM  \n",
      "369  Southeast Asia           VNM  \n",
      "370  Southeast Asia           VNM  \n",
      "\n",
      "[371 rows x 6 columns]\n"
     ]
    }
   ],
   "source": [
    "import pandas as pd\n",
    "\n",
    "data = pd.read_csv('asian_gdp.csv')\n",
    "\n",
    "print(data)"
   ]
  },
  {
   "cell_type": "code",
   "execution_count": 3,
   "id": "42385b73-c43c-4289-acdc-9accbea15f32",
   "metadata": {},
   "outputs": [
    {
     "name": "stdout",
     "output_type": "stream",
     "text": [
      "['RegionalMember', 'Year', 'GDP growth', 'Unit of Measurement', ' Subregion', ' Country Code']\n"
     ]
    }
   ],
   "source": [
    "#Print the all titles of the columns\n",
    "\n",
    "titles = list(data.columns)\n",
    "print(titles)"
   ]
  },
  {
   "cell_type": "code",
   "execution_count": 5,
   "id": "7ca2a085-3cea-4065-9d42-b4c8c42efb65",
   "metadata": {},
   "outputs": [
    {
     "name": "stdout",
     "output_type": "stream",
     "text": [
      "['RegionalMember', ' Country Code', 'GDP growth', 'Unit of Measurement', ' Subregion', 'Year']\n"
     ]
    }
   ],
   "source": [
    "#Rearrange the columns 2 and 6\n",
    "titles[1],titles[5] = titles[5],titles[1]\n",
    "print(titles)"
   ]
  },
  {
   "cell_type": "code",
   "execution_count": 6,
   "id": "43bf0023-d925-4996-b91e-488430d42b70",
   "metadata": {},
   "outputs": [
    {
     "name": "stdout",
     "output_type": "stream",
     "text": [
      "    RegionalMember  Country Code  GDP growth Unit of Measurement  \\\n",
      "0      Afghanistan           AFG         2.3                   %   \n",
      "1      Afghanistan           AFG         2.6                   %   \n",
      "2      Afghanistan           AFG         1.2                   %   \n",
      "3      Afghanistan           AFG         3.9                   %   \n",
      "4      Afghanistan           AFG        -5.0                   %   \n",
      "..             ...           ...         ...                 ...   \n",
      "366       Viet Nam           VNM         7.1                   %   \n",
      "367       Viet Nam           VNM         7.0                   %   \n",
      "368       Viet Nam           VNM         2.9                   %   \n",
      "369       Viet Nam           VNM         6.7                   %   \n",
      "370       Viet Nam           VNM         7.0                   %   \n",
      "\n",
      "          Subregion           Year  \n",
      "0        South Asia           2016  \n",
      "1        South Asia           2017  \n",
      "2        South Asia           2018  \n",
      "3        South Asia           2019  \n",
      "4        South Asia           2020  \n",
      "..              ...            ...  \n",
      "366  Southeast Asia           2018  \n",
      "367  Southeast Asia           2019  \n",
      "368  Southeast Asia           2020  \n",
      "369  Southeast Asia  2021 forecast  \n",
      "370  Southeast Asia  2022 forecast  \n",
      "\n",
      "[371 rows x 6 columns]\n"
     ]
    }
   ],
   "source": [
    "#print the rearranged columns for a better display\n",
    "data = data[titles]\n",
    "print(data)"
   ]
  },
  {
   "cell_type": "code",
   "execution_count": 8,
   "id": "9da14d8a-f3c6-44ad-baea-b76d0fa3c8c6",
   "metadata": {},
   "outputs": [
    {
     "name": "stdout",
     "output_type": "stream",
     "text": [
      "0      False\n",
      "1      False\n",
      "2      False\n",
      "3      False\n",
      "4      False\n",
      "       ...  \n",
      "366    False\n",
      "367    False\n",
      "368    False\n",
      "369    False\n",
      "370    False\n",
      "Length: 371, dtype: bool\n"
     ]
    }
   ],
   "source": [
    "print(data.duplicated())"
   ]
  },
  {
   "cell_type": "code",
   "execution_count": 9,
   "id": "38c1d86b-5cbc-4570-b41c-d277e8af2460",
   "metadata": {},
   "outputs": [],
   "source": [
    "data.drop_duplicates(inplace = True)"
   ]
  },
  {
   "cell_type": "code",
   "execution_count": null,
   "id": "39c7e6e7-d0cd-4831-bd0c-3bdef731660d",
   "metadata": {},
   "outputs": [],
   "source": []
  }
 ],
 "metadata": {
  "kernelspec": {
   "display_name": "Python 3 (ipykernel)",
   "language": "python",
   "name": "python3"
  },
  "language_info": {
   "codemirror_mode": {
    "name": "ipython",
    "version": 3
   },
   "file_extension": ".py",
   "mimetype": "text/x-python",
   "name": "python",
   "nbconvert_exporter": "python",
   "pygments_lexer": "ipython3",
   "version": "3.11.5"
  }
 },
 "nbformat": 4,
 "nbformat_minor": 5
}
